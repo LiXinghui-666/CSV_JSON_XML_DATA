{
 "cells": [
  {
   "cell_type": "code",
   "execution_count": 11,
   "metadata": {},
   "outputs": [],
   "source": [
    "import csv\n",
    "import pandas as pd\n",
    "\n",
    "# Field names \n",
    "fields = ['Name', 'Goals', 'Assists', 'Shots'] \n",
    "\n",
    "# Rows of data in the csv file \n",
    "rows = [ ['Emily', '12', '18', '112'], \n",
    "         ['Katie', '8', '24', '96'], \n",
    "         ['John', '16', '9', '101'], \n",
    "         ['Mike', '3', '14', '82']]\n",
    "\n",
    "filename = \"soccer.csv\"\n",
    "\n",
    "# Writing to csv file \n",
    "with open(filename, 'w+',newline='') as csvfile: \n",
    "    # Creating a csv writer object \n",
    "    csvwriter = csv.writer(csvfile) \n",
    "\n",
    "    # Writing the fields \n",
    "    csvwriter.writerow(fields) \n",
    "\n",
    "    # Writing the data rows \n",
    "    csvwriter.writerows(rows)\n"
   ]
  },
  {
   "cell_type": "markdown",
   "metadata": {},
   "source": [
    "（1）Name,Goals,Assists,Shots\n",
    "\n",
    "Emily,12,18,112\n",
    "\n",
    "Katie,8,24,96\n",
    "\n",
    "John,16,9,101\n",
    "\n",
    "Mike,3,14,82\n",
    "\n",
    "（2）增加open（）中newline参数，数据间空行消失：\n",
    "\n",
    "Name,Goals,Assists,Shots\n",
    "Emily,12,18,112\n",
    "Katie,8,24,96\n",
    "John,16,9,101\n",
    "Mike,3,14,82\n"
   ]
  },
  {
   "cell_type": "code",
   "execution_count": 12,
   "metadata": {},
   "outputs": [
    {
     "name": "stdout",
     "output_type": "stream",
     "text": [
      "['Name', 'Goals', 'Assists', 'Shots']\n",
      "['Emily', '12', '18', '112']\n",
      "['Katie', '8', '24', '96']\n",
      "['John', '16', '9', '101']\n",
      "['Mike', '3', '14', '82']\n"
     ]
    }
   ],
   "source": [
    "filename = \"soccer.csv\"\n",
    "\n",
    "fields = [] \n",
    "rows = []   \n",
    "# Reading csv file \n",
    "with open(filename, 'r',encoding='utf-8') as csvfile: \n",
    "    # Creating a csv reader object \n",
    "    csvreader = csv.reader(csvfile) \n",
    "    # Extracting field names in the first row \n",
    "    # fields = next(csvreader)\n",
    "\n",
    "    # Extracting each data row one by one \n",
    "    for row in csvreader: \n",
    "        rows.append(row)  \n",
    "# Printing out the first 5 rows \n",
    "for row in rows[:5]: \n",
    "    print(row)"
   ]
  },
  {
   "cell_type": "markdown",
   "metadata": {},
   "source": [
    "DF数据和JSON、XML数据格式转换"
   ]
  },
  {
   "cell_type": "code",
   "execution_count": 45,
   "metadata": {},
   "outputs": [
    {
     "name": "stdout",
     "output_type": "stream",
     "text": [
      "    Name  Goals  Assists  Shots\n",
      "0  Emily     12       18    112\n",
      "1  Katie      8       24     96\n",
      "2   John     16        9    101\n",
      "3   Mike      3       14     82\n"
     ]
    }
   ],
   "source": [
    "import pandas as pd\n",
    "from dicttoxml import dicttoxml\n",
    "import json\n",
    "\n",
    "# Building our dataframe\n",
    "data = {'Name': ['Emily', 'Katie', 'John', 'Mike'],\n",
    "        'Goals': [12, 8, 16, 3],\n",
    "        'Assists': [18, 24, 9, 14],\n",
    "        'Shots': [112, 96, 101, 82]\n",
    "        }\n",
    "\n",
    "df = pd.DataFrame(data, columns=data.keys())\n",
    "print(df)\n",
    "# Converting the dataframe to a dictionary\n",
    "# Then save it to file\n",
    "data_dict = df.to_dict(orient=\"records\")\n",
    "with open('output.json', \"w+\") as f:\n",
    "    json.dump(data_dict, f, indent=4)\n",
    "\n",
    "# Converting the dataframe to XML\n",
    "# Then save it to file\n",
    "xml_data = dicttoxml(data_dict).decode()\n",
    "with open(\"output.xml\", \"w+\") as f:\n",
    "    f.write(xml_data)"
   ]
  },
  {
   "cell_type": "code",
   "execution_count": 44,
   "metadata": {},
   "outputs": [
    {
     "name": "stdout",
     "output_type": "stream",
     "text": [
      "[{'Name': 'Emily', 'Goals': 12, 'Assists': 18, 'Shots': 112}, {'Name': 'Katie', 'Goals': 8, 'Assists': 24, 'Shots': 96}, {'Name': 'John', 'Goals': 16, 'Assists': 9, 'Shots': 101}, {'Name': 'Mike', 'Goals': 3, 'Assists': 14, 'Shots': 82}]\n",
      "<class 'dict_keys'>\n"
     ]
    }
   ],
   "source": [
    "import json\n",
    "import pandas as pd\n",
    "import csv\n",
    "\n",
    "# Read the data from file\n",
    "# We now have a Python dictionary\n",
    "with open('output.json') as f:\n",
    "    data_listofdict = json.load(f)      # 返回一个list\n",
    "print(data_listofdict)\n",
    "# Writing a list of dicts to CSV\n",
    "keys = data_listofdict[0].keys()\n",
    "print(type(keys))\n",
    "with open('saved_data.csv', 'w') as output_file:\n",
    "    dict_writer = csv.DictWriter(output_file, keys)\n",
    "    dict_writer.writeheader()\n",
    "    dict_writer.writerows(data_listofdict)\n",
    "    "
   ]
  },
  {
   "cell_type": "code",
   "execution_count": 2,
   "metadata": {},
   "outputs": [
    {
     "name": "stdout",
     "output_type": "stream",
     "text": [
      "{'root': OrderedDict([('item', [OrderedDict([('@type', 'dict'), ('Name', OrderedDict([('@type', 'str'), ('#text', 'Emily')])), ('Goals', OrderedDict([('@type', 'int'), ('#text', '12')])), ('Assists', OrderedDict([('@type', 'int'), ('#text', '18')])), ('Shots', OrderedDict([('@type', 'int'), ('#text', '112')]))]), OrderedDict([('@type', 'dict'), ('Name', OrderedDict([('@type', 'str'), ('#text', 'Katie')])), ('Goals', OrderedDict([('@type', 'int'), ('#text', '8')])), ('Assists', OrderedDict([('@type', 'int'), ('#text', '24')])), ('Shots', OrderedDict([('@type', 'int'), ('#text', '96')]))]), OrderedDict([('@type', 'dict'), ('Name', OrderedDict([('@type', 'str'), ('#text', 'John')])), ('Goals', OrderedDict([('@type', 'int'), ('#text', '16')])), ('Assists', OrderedDict([('@type', 'int'), ('#text', '9')])), ('Shots', OrderedDict([('@type', 'int'), ('#text', '101')]))]), OrderedDict([('@type', 'dict'), ('Name', OrderedDict([('@type', 'str'), ('#text', 'Mike')])), ('Goals', OrderedDict([('@type', 'int'), ('#text', '3')])), ('Assists', OrderedDict([('@type', 'int'), ('#text', '14')])), ('Shots', OrderedDict([('@type', 'int'), ('#text', '82')]))])])])}\n"
     ]
    }
   ],
   "source": [
    "import xml.etree.ElementTree as Et\n",
    "import xmltodict\n",
    "import json\n",
    "\n",
    "tree = Et.parse('output.xml')\n",
    "xml_data = tree.getroot()\n",
    "\n",
    "xmlstr = Et.tostring(xml_data,encoding='utf8',method='xml')\n",
    "\n",
    "data_dict = dict(xmltodict.parse(xmlstr))\n",
    "\n",
    "print(data_dict)\n",
    "\n",
    "with open('new_data_2.json','w+') as json_file:\n",
    "    json.dump(data_dict,json_file,indent=4,sort_keys=True)"
   ]
  },
  {
   "cell_type": "markdown",
   "metadata": {},
   "source": [
    "小结：\n",
    "（1）csv，json和xml数据格式之间的转换其实都是变为字典的基础上再进行转换\n\n",
    "（2）xml.etree.ElementTree.parse()函数将整个XML文档转换成一个文档对象\n\n",
    "（3）json.load和json.dump是针对文件进行操作，且json.load返回字典数据类型的列表；json.loads和json.dumps是针对字符串进行操作"
   ]
  }
 ],
 "metadata": {
  "interpreter": {
   "hash": "5a614c8a6cd6a5027da68872f1e93f9e887f588596d808974bfda8abbfdca7f7"
  },
  "kernelspec": {
   "display_name": "Python 3.6.13 64-bit ('pytorch1.0': conda)",
   "language": "python",
   "name": "python3"
  },
  "language_info": {
   "codemirror_mode": {
    "name": "ipython",
    "version": 3
   },
   "file_extension": ".py",
   "mimetype": "text/x-python",
   "name": "python",
   "nbconvert_exporter": "python",
   "pygments_lexer": "ipython3",
   "version": "3.8.8"
  },
  "orig_nbformat": 4
 },
 "nbformat": 4,
 "nbformat_minor": 2
}
